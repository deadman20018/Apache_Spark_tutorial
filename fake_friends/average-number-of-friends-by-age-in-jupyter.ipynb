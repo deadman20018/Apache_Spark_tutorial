{
 "cells": [
  {
   "cell_type": "code",
   "execution_count": 1,
   "metadata": {
    "collapsed": true
   },
   "outputs": [
    {
     "name": "stderr",
     "output_type": "stream",
     "text": [
      "Setting default log level to \"WARN\".\n",
      "To adjust logging level use sc.setLogLevel(newLevel). For SparkR, use setLogLevel(newLevel).\n"
     ]
    },
    {
     "name": "stdout",
     "output_type": "stream",
     "text": [
      "23/01/05 21:09:07 WARN NativeCodeLoader: Unable to load native-hadoop library for your platform... using builtin-java classes where applicable\n"
     ]
    }
   ],
   "source": [
    "from pyspark.sql import SparkSession\n",
    "from pyspark.sql import functions as func\n",
    "\n",
    "spark = SparkSession.builder.appName(\"fake-friend-df\").getOrCreate()\n",
    "\n",
    "#Reading the csv file and telling pySpark to infer the schema based on the headers in the csv file\n",
    "people = spark.read.option(\"header\",\"true\").option(\"Inferschema\", \"true\").csv(\"fakefriends-header.csv\")\n",
    "print(\"Data reading was successful\")"
   ]
  },
  {
   "cell_type": "code",
   "execution_count": 2,
   "outputs": [
    {
     "name": "stdout",
     "output_type": "stream",
     "text": [
      "root\n",
      " |-- userID: integer (nullable = true)\n",
      " |-- name: string (nullable = true)\n",
      " |-- age: integer (nullable = true)\n",
      " |-- friends: integer (nullable = true)\n",
      "\n"
     ]
    }
   ],
   "source": [
    "#Print out the infered schema\n",
    "people.printSchema()"
   ],
   "metadata": {
    "collapsed": false
   }
  },
  {
   "cell_type": "code",
   "execution_count": 9,
   "outputs": [
    {
     "name": "stdout",
     "output_type": "stream",
     "text": [
      "+---+\n",
      "|age|\n",
      "+---+\n",
      "| 33|\n",
      "| 26|\n",
      "| 55|\n",
      "| 40|\n",
      "| 68|\n",
      "| 59|\n",
      "| 37|\n",
      "| 54|\n",
      "| 38|\n",
      "| 27|\n",
      "| 53|\n",
      "| 57|\n",
      "| 54|\n",
      "| 56|\n",
      "| 43|\n",
      "| 36|\n",
      "| 22|\n",
      "| 35|\n",
      "| 45|\n",
      "| 60|\n",
      "+---+\n",
      "only showing top 20 rows\n",
      "\n"
     ]
    }
   ],
   "source": [
    "#Show the individual people by age sorted\n",
    "people.select(\"age\").show()"
   ],
   "metadata": {
    "collapsed": false
   }
  },
  {
   "cell_type": "code",
   "execution_count": 10,
   "outputs": [
    {
     "name": "stdout",
     "output_type": "stream",
     "text": [
      "+--------+\n",
      "|    name|\n",
      "+--------+\n",
      "|    Will|\n",
      "|Jean-Luc|\n",
      "|    Hugh|\n",
      "|  Deanna|\n",
      "|   Quark|\n",
      "|  Weyoun|\n",
      "|  Gowron|\n",
      "|    Will|\n",
      "|  Jadzia|\n",
      "|    Hugh|\n",
      "|     Odo|\n",
      "|     Ben|\n",
      "|   Keiko|\n",
      "|Jean-Luc|\n",
      "|    Hugh|\n",
      "|     Rom|\n",
      "|  Weyoun|\n",
      "|     Odo|\n",
      "|Jean-Luc|\n",
      "|  Geordi|\n",
      "+--------+\n",
      "only showing top 20 rows\n",
      "\n"
     ]
    }
   ],
   "source": [
    "#Show the names of the people\n",
    "people.select(\"name\").show()"
   ],
   "metadata": {
    "collapsed": false
   }
  },
  {
   "cell_type": "code",
   "execution_count": 11,
   "outputs": [
    {
     "name": "stdout",
     "output_type": "stream",
     "text": [
      "+---+----------------------+\n",
      "|age|round(avg(friends), 0)|\n",
      "+---+----------------------+\n",
      "| 18|                 343.0|\n",
      "| 19|                 213.0|\n",
      "| 20|                 165.0|\n",
      "| 21|                 351.0|\n",
      "| 22|                 206.0|\n",
      "| 23|                 246.0|\n",
      "| 24|                 234.0|\n",
      "| 25|                 197.0|\n",
      "| 26|                 242.0|\n",
      "| 27|                 228.0|\n",
      "| 28|                 209.0|\n",
      "| 29|                 216.0|\n",
      "| 30|                 236.0|\n",
      "| 31|                 267.0|\n",
      "| 32|                 208.0|\n",
      "| 33|                 325.0|\n",
      "| 34|                 246.0|\n",
      "| 35|                 212.0|\n",
      "| 36|                 247.0|\n",
      "| 37|                 249.0|\n",
      "+---+----------------------+\n",
      "only showing top 20 rows\n",
      "\n"
     ]
    }
   ],
   "source": [
    "#Super query to show the average number of friends by age\n",
    "people.groupBy(\"age\").agg(func.round(func.avg(\"friends\"),0)).orderBy(\"age\").show()"
   ],
   "metadata": {
    "collapsed": false
   }
  },
  {
   "cell_type": "code",
   "execution_count": null,
   "outputs": [],
   "source": [
    "#Naturally after having used it we have to stop the spark engine\n",
    "spark.stop()"
   ],
   "metadata": {
    "collapsed": false
   }
  }
 ],
 "metadata": {
  "kernelspec": {
   "display_name": "Python 3",
   "language": "python",
   "name": "python3"
  },
  "language_info": {
   "codemirror_mode": {
    "name": "ipython",
    "version": 2
   },
   "file_extension": ".py",
   "mimetype": "text/x-python",
   "name": "python",
   "nbconvert_exporter": "python",
   "pygments_lexer": "ipython2",
   "version": "2.7.6"
  }
 },
 "nbformat": 4,
 "nbformat_minor": 0
}
