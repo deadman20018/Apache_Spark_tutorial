{
 "cells": [
  {
   "cell_type": "code",
   "execution_count": 1,
   "metadata": {
    "collapsed": true
   },
   "outputs": [],
   "source": [
    "from pyspark.sql import SparkSession\n",
    "from pyspark.sql import functions as func\n",
    "from pyspark.sql.types import StructType, StructField, StringType, IntegerType, FloatType"
   ]
  },
  {
   "cell_type": "code",
   "execution_count": 2,
   "outputs": [
    {
     "name": "stderr",
     "output_type": "stream",
     "text": [
      "Setting default log level to \"WARN\".\n",
      "To adjust logging level use sc.setLogLevel(newLevel). For SparkR, use setLogLevel(newLevel).\n"
     ]
    },
    {
     "name": "stdout",
     "output_type": "stream",
     "text": [
      "23/01/05 20:36:57 WARN NativeCodeLoader: Unable to load native-hadoop library for your platform... using builtin-java classes where applicable\n"
     ]
    }
   ],
   "source": [
    "spark = SparkSession.builder.appName(\"maxTemp-df\").getOrCreate()"
   ],
   "metadata": {
    "collapsed": false
   }
  },
  {
   "cell_type": "code",
   "execution_count": 3,
   "outputs": [],
   "source": [
    "schema = StructType([ \\\n",
    "    StructField(\"stationID\", StringType(), True), \\\n",
    "    StructField(\"date\", IntegerType(), True), \\\n",
    "    StructField(\"measure_type\", StringType(), True), \\\n",
    "    StructField(\"temperature\", FloatType(), True)])"
   ],
   "metadata": {
    "collapsed": false
   }
  },
  {
   "cell_type": "code",
   "execution_count": 4,
   "outputs": [
    {
     "name": "stdout",
     "output_type": "stream",
     "text": [
      "root\n",
      " |-- stationID: string (nullable = true)\n",
      " |-- date: integer (nullable = true)\n",
      " |-- measure_type: string (nullable = true)\n",
      " |-- temperature: float (nullable = true)\n",
      "\n"
     ]
    }
   ],
   "source": [
    "# Read the file as dataframe\n",
    "df = spark.read.schema(schema).csv(\"1800.csv\")\n",
    "df.printSchema()"
   ],
   "metadata": {
    "collapsed": false
   }
  },
  {
   "cell_type": "code",
   "execution_count": 5,
   "outputs": [],
   "source": [
    "# Filter out all but TMAX entries\n",
    "maxTemps = df.filter(df.measure_type == \"TMAX\")"
   ],
   "metadata": {
    "collapsed": false
   }
  },
  {
   "cell_type": "code",
   "execution_count": 6,
   "outputs": [],
   "source": [
    "# Select only stationID and temperature\n",
    "stationTemps = maxTemps.select(\"stationID\", \"temperature\")"
   ],
   "metadata": {
    "collapsed": false
   }
  },
  {
   "cell_type": "code",
   "execution_count": 7,
   "outputs": [
    {
     "name": "stdout",
     "output_type": "stream",
     "text": [
      "+-----------+----------------+\n",
      "|  stationID|max(temperature)|\n",
      "+-----------+----------------+\n",
      "|ITE00100554|           323.0|\n",
      "|EZE00100082|           323.0|\n",
      "+-----------+----------------+\n",
      "\n"
     ]
    }
   ],
   "source": [
    "# Aggregate to find maximum temperature for every station\n",
    "maxTempsByStation = stationTemps.groupBy(\"stationID\").max(\"temperature\")\n",
    "maxTempsByStation.show()"
   ],
   "metadata": {
    "collapsed": false
   }
  },
  {
   "cell_type": "code",
   "execution_count": 8,
   "outputs": [],
   "source": [
    "# Convert temperature to Fahrenheit and sort the dataset\n",
    "maxTempsByStationF = maxTempsByStation.withColumn(\"temperature\",\n",
    "                                                  func.round(func.col(\"max(temperature)\") * 0.1 * (9.0 / 5.0) + 32.0,\n",
    "                                                             2)) \\\n",
    "    .select(\"stationID\", \"temperature\").sort(\"temperature\")"
   ],
   "metadata": {
    "collapsed": false
   }
  },
  {
   "cell_type": "code",
   "execution_count": 9,
   "outputs": [],
   "source": [
    "# Collect, format, and print the results\n",
    "results = maxTempsByStationF.collect()"
   ],
   "metadata": {
    "collapsed": false
   }
  },
  {
   "cell_type": "code",
   "execution_count": 10,
   "outputs": [
    {
     "name": "stdout",
     "output_type": "stream",
     "text": [
      "The maximum result is: ITE00100554\t90.14F\n",
      "The maximum result is: EZE00100082\t90.14F\n"
     ]
    }
   ],
   "source": [
    "for result in results:\n",
    "    print(\"The maximum result is: \" + result[0] + \"\\t{:.2f}F\".format(result[1]))\n",
    "\n",
    "spark.stop()"
   ],
   "metadata": {
    "collapsed": false
   }
  },
  {
   "cell_type": "code",
   "execution_count": null,
   "outputs": [],
   "source": [],
   "metadata": {
    "collapsed": false
   }
  }
 ],
 "metadata": {
  "kernelspec": {
   "display_name": "Python 3",
   "language": "python",
   "name": "python3"
  },
  "language_info": {
   "codemirror_mode": {
    "name": "ipython",
    "version": 2
   },
   "file_extension": ".py",
   "mimetype": "text/x-python",
   "name": "python",
   "nbconvert_exporter": "python",
   "pygments_lexer": "ipython2",
   "version": "2.7.6"
  }
 },
 "nbformat": 4,
 "nbformat_minor": 0
}
